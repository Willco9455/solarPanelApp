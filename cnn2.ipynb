{
 "cells": [
  {
   "cell_type": "code",
   "execution_count": 33,
   "metadata": {},
   "outputs": [],
   "source": [
    "import os\n",
    "import cv2\n",
    "import numpy as np\n",
    "from keras.preprocessing.image import ImageDataGenerator\n",
    "from PIL import Image\n",
    "import pandas as pd\n",
    "import matplotlib.pyplot as plt\n",
    "\n",
    "# loading image data...\n",
    "def data_loader(folder_dir):\n",
    "    # folder_dir = \"./data/images/\"\n",
    "    image_dataset = []\n",
    "    mask_dataset = []\n",
    "    for images in os.listdir(folder_dir+'/images'):\n",
    "        image = cv2.imread(folder_dir+'/images/'+images, 1)\n",
    "        # image = cv2.imread(folder_dir+'/'+images, 1)\n",
    "        image = cv2.cvtColor(image,cv2.COLOR_BGR2RGB)\n",
    "        # image = cv2.resize(image, (128, 128))\n",
    "        image = Image.fromarray(image)\n",
    "        image = np.array(image)\n",
    "        image_dataset.append(image)\n",
    "        mask = cv2.imread(folder_dir+'/masks/10066_mask.png', 1)\n",
    "        mask = cv2.cvtColor(mask,cv2.COLOR_BGR2RGB)\n",
    "        mask = Image.fromarray(mask)\n",
    "        mask = np.array(mask)\n",
    "        mask_dataset.append(mask)\n",
    "    return image_dataset, mask_dataset"
   ]
  },
  {
   "cell_type": "code",
   "execution_count": 34,
   "metadata": {},
   "outputs": [
    {
     "data": {
      "text/plain": [
       "(1670, 480, 640, 3)"
      ]
     },
     "execution_count": 34,
     "metadata": {},
     "output_type": "execute_result"
    }
   ],
   "source": [
    "\n",
    "\n",
    "image_dataset, mask_dataset = data_loader(\"./data\")\n",
    "image_dataset = np.array(image_dataset)\n",
    "mask_dataset = np.array(mask_dataset)\n",
    "mask_dataset.shape\n",
    "image_dataset.shape"
   ]
  },
  {
   "cell_type": "code",
   "execution_count": null,
   "metadata": {},
   "outputs": [],
   "source": [
    "import random\n",
    "\n",
    "image_number = random.randint(0, len(image_dataset))\n",
    "plt.figure(figsize=(12, 6))\n",
    "plt.subplot(121)\n",
    "plt.imshow(image_dataset[image_number])\n",
    "plt.subplot(122)\n",
    "plt.imshow(mask_dataset[image_number])\n",
    "plt.show()"
   ]
  }
 ],
 "metadata": {
  "kernelspec": {
   "display_name": "venv",
   "language": "python",
   "name": "python3"
  },
  "language_info": {
   "codemirror_mode": {
    "name": "ipython",
    "version": 3
   },
   "file_extension": ".py",
   "mimetype": "text/x-python",
   "name": "python",
   "nbconvert_exporter": "python",
   "pygments_lexer": "ipython3",
   "version": "3.11.4"
  }
 },
 "nbformat": 4,
 "nbformat_minor": 2
}
